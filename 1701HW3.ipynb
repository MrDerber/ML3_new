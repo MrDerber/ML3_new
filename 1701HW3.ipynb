{
 "cells": [
  {
   "cell_type": "code",
   "execution_count": 37,
   "id": "90353b61",
   "metadata": {},
   "outputs": [],
   "source": [
    "import numpy as np\n",
    "import pandas as pd\n",
    "import statistics\n",
    "import matplotlib.pyplot as plt\n",
    "from sklearn.model_selection import GridSearchCV\n",
    "from sklearn.model_selection import RandomizedSearchCV\n",
    "import lightgbm as lgbm\n",
    "from lightgbm import LGBMClassifier\n",
    "from sklearn.model_selection import RandomizedSearchCV\n",
    "from sklearn.ensemble import RandomForestClassifier\n",
    "from sklearn.linear_model import LogisticRegression\n",
    "from sklearn.neighbors import KNeighborsClassifier\n",
    "from sklearn.ensemble import StackingClassifier\n",
    "from sklearn.model_selection import train_test_split\n",
    "from sklearn.metrics import plot_roc_curve\n",
    "from sklearn.svm import SVC\n",
    "from sklearn.metrics import RocCurveDisplay\n",
    "from sklearn.metrics import roc_auc_score"
   ]
  },
  {
   "cell_type": "code",
   "execution_count": 2,
   "id": "15474ecc",
   "metadata": {},
   "outputs": [],
   "source": [
    "df = pd.read_csv(\"application_train.csv\")"
   ]
  },
  {
   "cell_type": "code",
   "execution_count": 3,
   "id": "b95d6999",
   "metadata": {},
   "outputs": [],
   "source": [
    "features=['NAME_CONTRACT_TYPE','CODE_GENDER','FLAG_OWN_CAR','FLAG_OWN_REALTY','NAME_TYPE_SUITE','NAME_INCOME_TYPE','NAME_EDUCATION_TYPE','NAME_FAMILY_STATUS']"
   ]
  },
  {
   "cell_type": "code",
   "execution_count": 4,
   "id": "237e3356",
   "metadata": {},
   "outputs": [],
   "source": [
    "df = df[['TARGET']+features]"
   ]
  },
  {
   "cell_type": "code",
   "execution_count": 5,
   "id": "c812b7a4",
   "metadata": {},
   "outputs": [],
   "source": [
    "df['NAME_CONTRACT_TYPE'] = df['NAME_CONTRACT_TYPE'].replace( { 'Cash loans':1,'Revolving loans':0 })\n",
    "df['CODE_GENDER'] = df['CODE_GENDER'].replace( { 'F':1,'M':0, 'XNA':-1 } )\n",
    "df['FLAG_OWN_CAR'] = df['FLAG_OWN_CAR'].replace( { 'N':1,'Y':0 } )\n",
    "df['FLAG_OWN_REALTY'] = df['FLAG_OWN_REALTY'].replace( { 'Y':1,'N':0 } )\n",
    "df['NAME_TYPE_SUITE'] = df['NAME_TYPE_SUITE'].replace( { 'Unaccompanied':0,'Family':1,'Spouse, partner':2,'Children':3,'Other_B':4,'Other_A':5,'Group of people':6} ).fillna(-1)\n",
    "df['NAME_INCOME_TYPE'] = df['NAME_INCOME_TYPE'].replace( { 'Working':0,'Commercial associate':1,'Pensioner':2,'State servant':3,'Unemployed':4,'Student':5,'Businessman':6,'Maternity leave':7} ).fillna(-1)\n",
    "df['NAME_EDUCATION_TYPE'] = df['NAME_EDUCATION_TYPE'].replace( { 'Secondary / secondary special':0,'Higher education':1,'Incomplete higher':2,'Lower secondary':3,'Academic degree':4} ).fillna(-1)\n",
    "df['NAME_FAMILY_STATUS'] = df['NAME_FAMILY_STATUS'].replace( { 'Married':0,'Single / not married':1,'Civil marriage':2,'Separated':3,'Widow':4,'Unknown':5} ).fillna(-1)"
   ]
  },
  {
   "cell_type": "code",
   "execution_count": 6,
   "id": "e0ebc248",
   "metadata": {},
   "outputs": [],
   "source": [
    "cat_features = ['NAME_CONTRACT_TYPE', 'CODE_GENDER', 'FLAG_OWN_CAR', 'FLAG_OWN_REALTY', 'NAME_TYPE_SUITE', 'NAME_INCOME_TYPE', 'NAME_EDUCATION_TYPE', 'NAME_FAMILY_STATUS']"
   ]
  },
  {
   "cell_type": "code",
   "execution_count": 7,
   "id": "4ae0c8c5",
   "metadata": {},
   "outputs": [],
   "source": [
    "# Input_x_Features.\n",
    "X = df[features]\n",
    "# Input_ y_Target_Variable.\n",
    "y = df['TARGET']"
   ]
  },
  {
   "cell_type": "code",
   "execution_count": 8,
   "id": "dea9058b",
   "metadata": {},
   "outputs": [],
   "source": [
    "X_train, X_test, y_train, y_test = train_test_split(X, y, stratify=y, test_size=0.25)"
   ]
  },
  {
   "cell_type": "code",
   "execution_count": 9,
   "id": "224bf257",
   "metadata": {},
   "outputs": [],
   "source": [
    "train_set = lgbm.Dataset(X_train,label=y_train, params={'verbose':-1})\n",
    "valid_set = lgbm.Dataset(X_test,label=y_test, params={'verbose':-1})"
   ]
  },
  {
   "cell_type": "markdown",
   "id": "83a09305",
   "metadata": {},
   "source": [
    "0) Взять три гиперпараметра для градиентного бустинга, и для каждого проварьировать один из них, фиксируя остальные. Построить графики зависимости метрики на кросс-валидации от параметра. Прокомментируйте, какие параметры и как влияют на переобучение."
   ]
  },
  {
   "cell_type": "code",
   "execution_count": 10,
   "id": "d24540fd",
   "metadata": {},
   "outputs": [
    {
     "name": "stderr",
     "output_type": "stream",
     "text": [
      "/opt/anaconda3/lib/python3.8/site-packages/lightgbm/basic.py:2068: UserWarning: categorical_feature in Dataset is overridden.\n",
      "New categorical_feature is ['CODE_GENDER', 'FLAG_OWN_CAR', 'FLAG_OWN_REALTY', 'NAME_CONTRACT_TYPE', 'NAME_EDUCATION_TYPE', 'NAME_FAMILY_STATUS', 'NAME_INCOME_TYPE', 'NAME_TYPE_SUITE']\n",
      "  _log_warning('categorical_feature in Dataset is overridden.\\n'\n"
     ]
    }
   ],
   "source": [
    "#lr stands for learning rate\n",
    "params = {'num_leaves':31,\n",
    "          'learning_rate':0.1,\n",
    "          'max_depth': 4,\n",
    "          'metric':['auc'],\n",
    "          'objective': 'binary',\n",
    "          'verbose': -1\n",
    "              }\n",
    "\n",
    "auc_lr_list = []\n",
    "lr_list = [0.1, 0.2, 0.3, 0.4, 0.5, 0.6, 0.7, 0.8, 0.9, 1]\n",
    "for lr in lr_list: \n",
    "    params['learning_rate'] = lr\n",
    "    cv_model = lgbm.cv(params, train_set, categorical_feature=cat_features)\n",
    "    #val_model=lgbm.train(params, train_set, num_boost_round=20,valid_sets=[valid_set],early_stopping_rounds=10,categorical_feature=cat_features)\n",
    "    auc_lr_list.append(statistics.mean(cv_model['auc-mean']))"
   ]
  },
  {
   "cell_type": "code",
   "execution_count": 11,
   "id": "8f43ca8b",
   "metadata": {},
   "outputs": [
    {
     "data": {
      "text/plain": [
       "[<matplotlib.lines.Line2D at 0x7fa084ebcbb0>]"
      ]
     },
     "execution_count": 11,
     "metadata": {},
     "output_type": "execute_result"
    },
    {
     "data": {
      "image/png": "[encoded data removed]",
      "text/plain": [
       "<Figure size 432x288 with 1 Axes>"
      ]
     },
     "metadata": {
      "needs_background": "light"
     },
     "output_type": "display_data"
    }
   ],
   "source": [
    "plt.plot(lr_list, auc_lr_list)"
   ]
  },
  {
   "cell_type": "markdown",
   "id": "4921b4a8",
   "metadata": {},
   "source": [
    "Увеличение learning_rate в диапазоне с 0.1 до 1 отрицательно влияет на точность модели на кросс-валидации => положительно влияет на overfitting"
   ]
  },
  {
   "cell_type": "code",
   "execution_count": 12,
   "id": "1c6d2273",
   "metadata": {},
   "outputs": [],
   "source": [
    "#nl stands for num_leaves\n",
    "params = {'num_leaves':31,\n",
    "          'learning_rate':0.1,\n",
    "          'max_depth': 5,\n",
    "          'metric':['auc'],\n",
    "          'objective': 'binary',\n",
    "          'verbose':-1\n",
    "              }\n",
    "\n",
    "auc_nl_list = []\n",
    "nl_list = [25, 26, 27, 28, 29, 30, 31, 32, 33, 34]\n",
    "for nl in nl_list: \n",
    "    params['num_leaves'] = nl\n",
    "    cv_model = lgbm.cv(params, train_set,categorical_feature=cat_features)\n",
    "    #val_model=lgbm.train(params, train_set, num_boost_round=20,valid_sets=[valid_set],early_stopping_rounds=10,categorical_feature=cat_features)\n",
    "    auc_nl_list.append(statistics.mean(cv_model['auc-mean']))"
   ]
  },
  {
   "cell_type": "code",
   "execution_count": 13,
   "id": "0db448d8",
   "metadata": {},
   "outputs": [
    {
     "data": {
      "text/plain": [
       "[<matplotlib.lines.Line2D at 0x7fa0831ee0a0>]"
      ]
     },
     "execution_count": 13,
     "metadata": {},
     "output_type": "execute_result"
    },
    {
     "data": {
      "image/png": "[encoded data removed]",
      "text/plain": [
       "<Figure size 432x288 with 1 Axes>"
      ]
     },
     "metadata": {
      "needs_background": "light"
     },
     "output_type": "display_data"
    }
   ],
   "source": [
    "plt.plot(nl_list, auc_nl_list)"
   ]
  },
  {
   "cell_type": "markdown",
   "id": "913b0869",
   "metadata": {},
   "source": [
    "Увеличение num_leaves в диапазоне с 25 до 34 в среднем отрицательно влияет на точность модели на кросс-валидации => положительно влияет на overfitting"
   ]
  },
  {
   "cell_type": "code",
   "execution_count": 14,
   "id": "cc99c190",
   "metadata": {},
   "outputs": [],
   "source": [
    "#md stands for max_depth\n",
    "params = {'num_leaves':31,\n",
    "          'learning_rate':0.1,\n",
    "          'max_depth': 5,\n",
    "          'metric':['auc'],\n",
    "          'objective': 'binary',\n",
    "          'verbose':-1\n",
    "              }\n",
    "\n",
    "auc_md_list = []\n",
    "md_list = [1, 2, 3, 4, 5, 6, 7, 8, 9, 10]\n",
    "for md in md_list: \n",
    "    params['max_depth'] = md\n",
    "    cv_model = lgbm.cv(params, train_set,categorical_feature=cat_features)\n",
    "    #val_model=lgbm.train(params, train_set, num_boost_round=20,valid_sets=[valid_set],early_stopping_rounds=10,categorical_feature=cat_features)\n",
    "    auc_md_list.append(statistics.mean(cv_model['auc-mean']))"
   ]
  },
  {
   "cell_type": "code",
   "execution_count": 16,
   "id": "4be50bf1",
   "metadata": {},
   "outputs": [
    {
     "data": {
      "text/plain": [
       "[<matplotlib.lines.Line2D at 0x7fa0834e4340>]"
      ]
     },
     "execution_count": 16,
     "metadata": {},
     "output_type": "execute_result"
    },
    {
     "data": {
      "image/png": "[encoded data removed]",
      "text/plain": [
       "<Figure size 432x288 with 1 Axes>"
      ]
     },
     "metadata": {
      "needs_background": "light"
     },
     "output_type": "display_data"
    }
   ],
   "source": [
    "plt.plot(md_list, auc_md_list)"
   ]
  },
  {
   "cell_type": "markdown",
   "id": "aadb1101",
   "metadata": {},
   "source": [
    "Увеличение max_depth в диапаоне с 1 до 5 положительно влияет и от 5 до 10 влияет отрицательно на точность модели на кросс-валидации => отрицательно max_depth в диапазоне от 1 до 5 отрицательно влияет на overfitting и в диапазоне от 5 до 10 положительно, не не так значительно"
   ]
  },
  {
   "cell_type": "markdown",
   "id": "a9364768",
   "metadata": {},
   "source": [
    "1) Сделать с помощью GridSearchCV и RandomizedSearchCV отбор наилучших параметров."
   ]
  },
  {
   "cell_type": "code",
   "execution_count": 17,
   "id": "588bcac5",
   "metadata": {},
   "outputs": [
    {
     "name": "stdout",
     "output_type": "stream",
     "text": [
      "{'learning_rate': 0.3, 'max_depth': 3, 'num_leaves': 25}\n"
     ]
    }
   ],
   "source": [
    "#Сократил список перебираемых параметров из соображений сокращения времени на фиттинг.\n",
    "#Оставил параметры, которые по графику зависимости \"Метрика-Гиперпараметр\" - показали наилучшие рез-ты\n",
    "nl_list = [25, 26, 27, 28, 29]#\n",
    "md_list = [3, 4, 5, 6, 7]#\n",
    "lr_list = [0.1, 0.2, 0.3, 0.4]#\n",
    "\n",
    "\n",
    "parameters = {'num_leaves':nl_list,'max_depth':md_list,\n",
    "             'learning_rate':lr_list}\n",
    "\n",
    "clf = LGBMClassifier()\n",
    "\n",
    "\n",
    "gsearch = GridSearchCV(estimator=clf, param_grid=parameters, scoring='accuracy')\n",
    "gsearch.fit(X_train, y_train)\n",
    "print(gsearch.best_params_)"
   ]
  },
  {
   "cell_type": "code",
   "execution_count": 18,
   "id": "9c6d71e0",
   "metadata": {},
   "outputs": [
    {
     "name": "stdout",
     "output_type": "stream",
     "text": [
      "{'num_leaves': 26, 'max_depth': 3, 'learning_rate': 0.2}\n"
     ]
    }
   ],
   "source": [
    "#Сократил список перебираемых параметров из соображений сокращения времени на фиттинг.\n",
    "#Оставил параметры, которые по графику зависимости \"Метрика-Гиперпараметр\" - показали наилучшие рез-ты\n",
    "nl_list = [25, 26, 27, 28, 29]#\n",
    "md_list = [3, 4, 5, 6, 7]#\n",
    "lr_list = [0.1, 0.2, 0.3, 0.4]#\n",
    "\n",
    "rs_params = {\n",
    "        'learning_rate':lr_list,\n",
    "        'max_depth': md_list,\n",
    "        'num_leaves': nl_list\n",
    "}\n",
    "\n",
    "# Initialize a RandomizedSearchCV object using 5-fold CV-\n",
    "rs_cv = RandomizedSearchCV(estimator=LGBMClassifier(), param_distributions=rs_params)\n",
    "\n",
    "# Train on training data-\n",
    "rs_cv.fit(X_train, y_train)\n",
    "\n",
    "print(rs_cv.best_params_)"
   ]
  },
  {
   "cell_type": "markdown",
   "id": "997e7f38",
   "metadata": {},
   "source": [
    "2) Построить график feature importance. Какие признаки оказались самыми важными?"
   ]
  },
  {
   "cell_type": "code",
   "execution_count": 20,
   "id": "f58f1961",
   "metadata": {},
   "outputs": [
    {
     "name": "stdout",
     "output_type": "stream",
     "text": [
      "[1]\tvalid_0's auc: 0.615726\n",
      "[2]\tvalid_0's auc: 0.615629\n",
      "[3]\tvalid_0's auc: 0.616201\n",
      "[4]\tvalid_0's auc: 0.616748\n",
      "[5]\tvalid_0's auc: 0.617221\n",
      "[6]\tvalid_0's auc: 0.617189\n",
      "[7]\tvalid_0's auc: 0.617437\n",
      "[8]\tvalid_0's auc: 0.618168\n",
      "[9]\tvalid_0's auc: 0.618086\n",
      "[10]\tvalid_0's auc: 0.618322\n"
     ]
    }
   ],
   "source": [
    "val_model=lgbm.train(params, train_set, valid_sets=[valid_set], categorical_feature=cat_features, num_boost_round=10)"
   ]
  },
  {
   "cell_type": "code",
   "execution_count": 22,
   "id": "1e723e76",
   "metadata": {},
   "outputs": [
    {
     "data": {
      "text/plain": [
       "<AxesSubplot:title={'center':'Feature importance'}, xlabel='Feature importance', ylabel='Features'>"
      ]
     },
     "execution_count": 22,
     "metadata": {},
     "output_type": "execute_result"
    },
    {
     "data": {
      "image/png": "[encoded data removed]",
      "text/plain": [
       "<Figure size 432x288 with 1 Axes>"
      ]
     },
     "metadata": {
      "needs_background": "light"
     },
     "output_type": "display_data"
    }
   ],
   "source": [
    "lgbm.plot_importance(val_model)"
   ]
  },
  {
   "cell_type": "markdown",
   "id": "b16dcb75",
   "metadata": {},
   "source": [
    "Самыми важными признаками оказались: NAME_FAMILY_STATUS, NAME_CONTRACT_TYPE, FLAG_OWN_CAR, NAME_INCOME_TYPE "
   ]
  },
  {
   "cell_type": "markdown",
   "id": "28a6a32e",
   "metadata": {},
   "source": [
    "# Стэкинг"
   ]
  },
  {
   "cell_type": "markdown",
   "id": "00849da2",
   "metadata": {},
   "source": [
    "1) Построить стекинг для 5 различных моделей по вашему выбору с разными параметрами. Можете взять любые, например 2 бустинга, 2 случайных леса, лог рег. Записать скор на тестовой выборке."
   ]
  },
  {
   "cell_type": "code",
   "execution_count": 23,
   "id": "dea627de",
   "metadata": {},
   "outputs": [],
   "source": [
    "#Вставлю затюненые параметры по итогам работы GridSearchCV и RandomizedSearchCV\n",
    "params1 = {'num_leaves':29,\n",
    "          'learning_rate':0.2,\n",
    "          'max_depth': 7,\n",
    "          'metric':['auc'],\n",
    "          'objective': 'binary'\n",
    "              }\n",
    "\n",
    "params2 = {'num_leaves':28,\n",
    "          'learning_rate':0.3,\n",
    "          'max_depth': 3,\n",
    "          'metric':['auc'],\n",
    "          'objective': 'binary'\n",
    "              }\n",
    "\n",
    "models_dict = [('random_forest',RandomForestClassifier(n_estimators=10)),\n",
    "               ('random_forest1',RandomForestClassifier(n_estimators=5)),\n",
    "               ('boost1', LGBMClassifier(**params1)),\n",
    "               ('boost2', LGBMClassifier(**params2)),\n",
    "               ('log_reg', LogisticRegression())]\n",
    "\n",
    "clf1 = StackingClassifier(\n",
    "    estimators=models_dict, final_estimator=LogisticRegression())\n",
    "\n",
    "#y_score = clf.fit(X_train, y_train).predict_proba(X_test)"
   ]
  },
  {
   "cell_type": "markdown",
   "id": "91814de9",
   "metadata": {},
   "source": [
    "Скор на тестовой выборке"
   ]
  },
  {
   "cell_type": "code",
   "execution_count": 24,
   "id": "b880fa0f",
   "metadata": {},
   "outputs": [
    {
     "data": {
      "text/plain": [
       "StackingClassifier(estimators=[('random_forest',\n",
       "                                RandomForestClassifier(n_estimators=10)),\n",
       "                               ('random_forest1',\n",
       "                                RandomForestClassifier(n_estimators=5)),\n",
       "                               ('boost1',\n",
       "                                LGBMClassifier(learning_rate=0.2, max_depth=7,\n",
       "                                               metric=['auc'], num_leaves=29,\n",
       "                                               objective='binary')),\n",
       "                               ('boost2',\n",
       "                                LGBMClassifier(learning_rate=0.3, max_depth=3,\n",
       "                                               metric=['auc'], num_leaves=28,\n",
       "                                               objective='binary')),\n",
       "                               ('log_reg', LogisticRegression())],\n",
       "                   final_estimator=LogisticRegression())"
      ]
     },
     "execution_count": 24,
     "metadata": {},
     "output_type": "execute_result"
    }
   ],
   "source": [
    "clf1.fit(X=X_train, y=y_train)"
   ]
  },
  {
   "cell_type": "markdown",
   "id": "7f28379c",
   "metadata": {},
   "source": [
    "Убираю модель 'random_forest2'"
   ]
  },
  {
   "cell_type": "code",
   "execution_count": 25,
   "id": "77bb1c14",
   "metadata": {},
   "outputs": [],
   "source": [
    "models_dict = [\n",
    "               ('random_forest1',RandomForestClassifier(n_estimators=5)),\n",
    "               ('boost2', LGBMClassifier(**params2)),\n",
    "               ('boost1', LGBMClassifier(**params1)),\n",
    "               ('log_reg', LogisticRegression())]\n",
    "\n",
    "clf2 = StackingClassifier(\n",
    "    estimators=models_dict, final_estimator=LogisticRegression())"
   ]
  },
  {
   "cell_type": "code",
   "execution_count": 26,
   "id": "886331f0",
   "metadata": {},
   "outputs": [
    {
     "data": {
      "text/plain": [
       "StackingClassifier(estimators=[('random_forest1',\n",
       "                                RandomForestClassifier(n_estimators=5)),\n",
       "                               ('boost2',\n",
       "                                LGBMClassifier(learning_rate=0.3, max_depth=3,\n",
       "                                               metric=['auc'], num_leaves=28,\n",
       "                                               objective='binary')),\n",
       "                               ('boost1',\n",
       "                                LGBMClassifier(learning_rate=0.2, max_depth=7,\n",
       "                                               metric=['auc'], num_leaves=29,\n",
       "                                               objective='binary')),\n",
       "                               ('log_reg', LogisticRegression())],\n",
       "                   final_estimator=LogisticRegression())"
      ]
     },
     "execution_count": 26,
     "metadata": {},
     "output_type": "execute_result"
    }
   ],
   "source": [
    "clf2.fit(X=X_train, y=y_train)"
   ]
  },
  {
   "cell_type": "code",
   "execution_count": 46,
   "id": "97a5c728",
   "metadata": {},
   "outputs": [
    {
     "data": {
      "text/plain": [
       "0.6206853436328497"
      ]
     },
     "execution_count": 46,
     "metadata": {},
     "output_type": "execute_result"
    }
   ],
   "source": [
    "roc_auc_score(y_test, clf1.decision_function(X_test))"
   ]
  },
  {
   "cell_type": "code",
   "execution_count": 47,
   "id": "634550f7",
   "metadata": {},
   "outputs": [
    {
     "data": {
      "text/plain": [
       "0.6207226723085468"
      ]
     },
     "execution_count": 47,
     "metadata": {},
     "output_type": "execute_result"
    }
   ],
   "source": [
    "roc_auc_score(y_test, clf2.decision_function(X_test))"
   ]
  },
  {
   "cell_type": "markdown",
   "id": "1c23e37d",
   "metadata": {},
   "source": [
    "Скор немного вырос"
   ]
  }
 ],
 "metadata": {
  "kernelspec": {
   "display_name": "Python 3",
   "language": "python",
   "name": "python3"
  },
  "language_info": {
   "codemirror_mode": {
    "name": "ipython",
    "version": 3
   },
   "file_extension": ".py",
   "mimetype": "text/x-python",
   "name": "python",
   "nbconvert_exporter": "python",
   "pygments_lexer": "ipython3",
   "version": "3.8.8"
  }
 },
 "nbformat": 4,
 "nbformat_minor": 5
}
